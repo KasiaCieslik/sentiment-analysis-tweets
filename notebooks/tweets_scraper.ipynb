{
 "cells": [
  {
   "cell_type": "code",
   "execution_count": 1,
   "metadata": {},
   "outputs": [
    {
     "name": "stdout",
     "output_type": "stream",
     "text": [
      "1287466206249848833\n"
     ]
    }
   ],
   "source": [
    "import sys\n",
    "sys.path.append('/home/kasia/sentiment-analysis-of-tweets-using-emoticons')\n",
    "import pandas as pd\n",
    "from src.data_preparation.process_tweet_before_save import process_tweet\n",
    "from src.data_retrieval.twitter_streamer_real_time import scrap_tweet_from_twitter\n",
    "from src.data_retrieval.save_tweets_to_csv import save_tweets\n",
    "path = '/home/kasia/sentiment-analysis-of-tweets-using-emoticons/access_key/access.json'\n",
    "\n",
    "tweets = scrap_tweet_from_twitter(query = '*',language = 'en', creds_path = path, range_number = 1,tweets_number_for_every_range=10)\n",
    "\n",
    "d = []\n",
    "df = tweets\n",
    "for x in df:\n",
    "    tweet_data = process_tweet(x)\n",
    "    d.append(tweet_data)\n",
    "d = pd.DataFrame.from_records(d)\n",
    "\n",
    "path = ('data/raw')\n",
    "save_tweets(d,path,'raw_tweets ')"
   ]
  },
  {
   "cell_type": "code",
   "execution_count": null,
   "metadata": {},
   "outputs": [],
   "source": []
  }
 ],
 "metadata": {
  "kernelspec": {
   "display_name": "Python 3",
   "language": "python",
   "name": "python3"
  },
  "language_info": {
   "codemirror_mode": {
    "name": "ipython",
    "version": 3
   },
   "file_extension": ".py",
   "mimetype": "text/x-python",
   "name": "python",
   "nbconvert_exporter": "python",
   "pygments_lexer": "ipython3",
   "version": "3.7.6"
  }
 },
 "nbformat": 4,
 "nbformat_minor": 4
}
