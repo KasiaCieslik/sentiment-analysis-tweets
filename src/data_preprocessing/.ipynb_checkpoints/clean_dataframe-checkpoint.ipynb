{
 "cells": [
  {
   "cell_type": "code",
   "execution_count": null,
   "metadata": {},
   "outputs": [],
   "source": [
    "def remove_dup_tokens(tokens):\n",
    "    \"\"\"create two list first with all token and second only with unique token\"\"\"\n",
    "    collect = []\n",
    "    seen = []\n",
    "    for token in tokens:\n",
    "        if str(token) not in seen:\n",
    "            collect.append(token)\n",
    "        seen.append(str(token))\n",
    "    return collect\n",
    "\n",
    "\n",
    "def unique_tokens(emojis_column):    \n",
    "    \"\"\"remove duplication from columns with emoji\"\"\"\n",
    "    unique_emoji = []\n",
    "    for emoji in emojis_column:\n",
    "        collect = remove_dup_tokens(emoji)\n",
    "        unique_emoji.append(collect)\n",
    "    return unique_emoji  \n",
    "\n",
    "def additional_processing(df):\n",
    "    \"\"\"remove rows without emoji\"\"\"\n",
    "    df = df[df['emoji'].map(len)!=0]\n",
    "    return df"
   ]
  }
 ],
 "metadata": {
  "kernelspec": {
   "display_name": "Python 3",
   "language": "python",
   "name": "python3"
  },
  "language_info": {
   "codemirror_mode": {
    "name": "ipython",
    "version": 3
   },
   "file_extension": ".py",
   "mimetype": "text/x-python",
   "name": "python",
   "nbconvert_exporter": "python",
   "pygments_lexer": "ipython3",
   "version": "3.7.6"
  }
 },
 "nbformat": 4,
 "nbformat_minor": 4
}
