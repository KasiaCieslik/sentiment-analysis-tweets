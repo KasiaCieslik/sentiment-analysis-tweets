{
 "cells": [
  {
   "cell_type": "code",
   "execution_count": null,
   "metadata": {},
   "outputs": [],
   "source": [
    "from sklearn.model_selection import GridSearchCV, RandomizedSearchCV\n",
    "from sklearn.pipeline import Pipeline\n",
    "from sklearn.metrics import accuracy_score\n",
    "\n",
    "def random_search_best_estimator(scorer,param_grid,model_list,X_train, X_test, y_train, y_test):\n",
    "    \"\"\"return best estimator\"\"\"\n",
    "    results = []\n",
    "    for c,model in enumerate(model_list):\n",
    "        grid_search = RandomizedSearchCV(model,param_grid[c],cv=5,n_iter=40,scoring=scorer)\n",
    "        grid_search.fit(X_train,y_train)\n",
    "        grid_results = grid_search.cv_results_\n",
    "        results.append({'model_name':str(model_list[c]).split('X_train(')[0],'best_param':grid_search.best_params_,'best_score':grid_search.best_score_,'best_estimator':grid_search.best_estimator_})\n",
    "    return grid_search, grid_results,results\n",
    "\n",
    "def final_model(X_train, X_test, y_train, y_test,best_estimator):\n",
    "    \"return model for best estimator\"\n",
    "\n",
    "    final_model = Pipeline([\n",
    "    ('best_estimator', best_estimator,)\n",
    "    ])\n",
    "\n",
    "    # Fit on train\n",
    "    final_model.fit(X_train,y_train)\n",
    "    # Predict on test\n",
    "    pred_test = final_model.predict(X_test)\n",
    "    pred_train = final_model.predict(X_train)\n",
    "    final_accuracy_train = accuracy_score(y_train,pred_train)\n",
    "    final_accuracy_test = accuracy_score(y_test,pred_test)\n",
    "    # Return\n",
    "    return final_accuracy_test,final_accuracy_train"
   ]
  }
 ],
 "metadata": {
  "kernelspec": {
   "display_name": "Python 3",
   "language": "python",
   "name": "python3"
  },
  "language_info": {
   "codemirror_mode": {
    "name": "ipython",
    "version": 3
   },
   "file_extension": ".py",
   "mimetype": "text/x-python",
   "name": "python",
   "nbconvert_exporter": "python",
   "pygments_lexer": "ipython3",
   "version": "3.7.6"
  }
 },
 "nbformat": 4,
 "nbformat_minor": 4
}
