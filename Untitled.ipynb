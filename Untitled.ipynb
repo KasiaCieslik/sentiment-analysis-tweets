{
 "cells": [
  {
   "cell_type": "code",
   "execution_count": 1,
   "metadata": {},
   "outputs": [],
   "source": [
    "import sys\n",
    "import numpy as np\n",
    "import pandas as pd\n",
    "sys.path.append('/home/i008/sentiment-analysis-of-tweets-using-emoticons')\n",
    "from src.data_preparation.read_data import read_csv\n",
    "from src.data_preprocessing.clean_tweet import remove_pattern_from_tweet,cleanString,preprocess_data\n",
    "from src.features.spacy_helpers import setup_spacy, add_spacy_features\n",
    "from src.features.prepare_target import add_polarity_scores,sum_polarity,prepare_target\n",
    "from src.models.model import random_search_best_estimator, final_model, save_model\n",
    "from src.features.train_test_preparation import average_tweet_vectorizer, y_X_preparation, train_test_preparation_for_model\n",
    "from src.data_preprocessing.clean_dataframe import remove_dup_tokens, unique_tokens, additional_processing,downsample_target\n",
    "from src.data_preparation.reference_emoji_list import prepare_reference_emoji_list\n",
    "\n",
    "from sklearn.ensemble import RandomForestClassifier\n",
    "from sklearn.linear_model import LogisticRegression, LinearRegression,Lasso\n",
    "from sklearn.neighbors import KNeighborsClassifier\n",
    "from sklearn.svm import SVC \n",
    "from sklearn.linear_model import SGDClassifier\n",
    "\n",
    "from sklearn.metrics import make_scorer\n",
    "from sklearn.metrics import accuracy_score\n"
   ]
  },
  {
   "cell_type": "code",
   "execution_count": 2,
   "metadata": {},
   "outputs": [
    {
     "name": "stderr",
     "output_type": "stream",
     "text": [
      "/home/kasia/anaconda3/lib/python3.7/site-packages/IPython/core/interactiveshell.py:3254: DtypeWarning: Columns (31,32) have mixed types.Specify dtype option on import or set low_memory=False.\n",
      "  if (await self.run_code(code, result,  async_=asy)):\n"
     ]
    }
   ],
   "source": [
    "nlp = setup_spacy()\n",
    "df = read_csv(\"data/raw/raw_tweets.csv\")"
   ]
  },
  {
   "cell_type": "code",
   "execution_count": 3,
   "metadata": {
    "scrolled": true
   },
   "outputs": [],
   "source": [
    "df = preprocess_data(df)\n",
    "df = add_spacy_features(df=df, nlp=nlp)\n",
    "df = additional_processing(df)\n"
   ]
  },
  {
   "cell_type": "code",
   "execution_count": 4,
   "metadata": {},
   "outputs": [],
   "source": [
    "emoji_dict = prepare_reference_emoji_list(nlp=nlp)\n",
    "df = add_polarity_scores(df, emoji_dict, emoji_column='unique_emoji')\n",
    "df = df[df.polarity_for_unique_emoji.map(bool)]\n",
    "df = sum_polarity(df)\n",
    "df = prepare_target(df)\n",
    "df = downsample_target(df)\n"
   ]
  },
  {
   "cell_type": "code",
   "execution_count": null,
   "metadata": {
    "scrolled": true
   },
   "outputs": [],
   "source": [
    "df"
   ]
  },
  {
   "cell_type": "code",
   "execution_count": null,
   "metadata": {},
   "outputs": [],
   "source": [
    "df['sentiment_target'].value_counts()"
   ]
  },
  {
   "cell_type": "code",
   "execution_count": 5,
   "metadata": {},
   "outputs": [
    {
     "name": "stderr",
     "output_type": "stream",
     "text": [
      "/home/kasia/anaconda3/lib/python3.7/site-packages/sklearn/model_selection/_search.py:281: UserWarning: The total space of parameters 16 is smaller than n_iter=40. Running 16 iterations. For exhaustive searches, use GridSearchCV.\n",
      "  % (grid_size, self.n_iter, grid_size), UserWarning)\n",
      "/home/kasia/anaconda3/lib/python3.7/site-packages/sklearn/model_selection/_validation.py:536: FitFailedWarning: Estimator fit failed. The score on this train-test partition for these parameters will be set to nan. Details: \n",
      "ValueError: Solver lbfgs supports only 'l2' or 'none' penalties, got l1 penalty.\n",
      "\n",
      "  FitFailedWarning)\n",
      "/home/kasia/anaconda3/lib/python3.7/site-packages/sklearn/model_selection/_validation.py:536: FitFailedWarning: Estimator fit failed. The score on this train-test partition for these parameters will be set to nan. Details: \n",
      "ValueError: b'C <= 0'\n",
      "\n",
      "  FitFailedWarning)\n",
      "/home/kasia/anaconda3/lib/python3.7/site-packages/sklearn/model_selection/_validation.py:536: FitFailedWarning: Estimator fit failed. The score on this train-test partition for these parameters will be set to nan. Details: \n",
      "ZeroDivisionError: float division by zero\n",
      "\n",
      "  FitFailedWarning)\n",
      "/home/kasia/anaconda3/lib/python3.7/site-packages/sklearn/model_selection/_validation.py:536: FitFailedWarning: Estimator fit failed. The score on this train-test partition for these parameters will be set to nan. Details: \n",
      "ValueError: Solver lbfgs supports only 'l2' or 'none' penalties, got l1 penalty.\n",
      "\n",
      "  FitFailedWarning)\n",
      "/home/kasia/anaconda3/lib/python3.7/site-packages/sklearn/model_selection/_validation.py:536: FitFailedWarning: Estimator fit failed. The score on this train-test partition for these parameters will be set to nan. Details: \n",
      "ValueError: Solver lbfgs supports only 'l2' or 'none' penalties, got l1 penalty.\n",
      "\n",
      "  FitFailedWarning)\n",
      "/home/kasia/anaconda3/lib/python3.7/site-packages/sklearn/model_selection/_search.py:281: UserWarning: The total space of parameters 4 is smaller than n_iter=40. Running 4 iterations. For exhaustive searches, use GridSearchCV.\n",
      "  % (grid_size, self.n_iter, grid_size), UserWarning)\n"
     ]
    }
   ],
   "source": [
    "X,y = y_X_preparation(df)\n",
    "X_train, X_test, y_train, y_test = train_test_preparation_for_model(X,y)\n",
    "\n",
    "\n",
    "logistic = LogisticRegression()\n",
    "knn = KNeighborsClassifier()\n",
    "rfc = RandomForestClassifier()\n",
    "sgd = SGDClassifier()\n",
    "\n",
    "scorer = make_scorer(accuracy_score)\n",
    "\n",
    "param_grid =[#{'alpha': np.linspace(0.00001, 1, 40)},\n",
    "             {'penalty' : ['l1', 'l2'],'C' : [0,1,5,10],'solver' : ['lbfgs','liblinear']},\n",
    "             {'n_neighbors':[1,3,5,10]},\n",
    "             {'n_estimators':list(range(10,101,10)),'max_features':list(range(6,32,5))},\n",
    "             {'average': [True, False],'alpha': np.linspace(0.00001, 1, 40)}]\n",
    "model_list = [logistic, knn, rfc,sgd]\n",
    "\n",
    "grid_search, grid_results,results  = random_search_best_estimator(scorer,param_grid,model_list,X_train, X_test, y_train, y_test)   \n",
    "results = pd.DataFrame(results) \n",
    "results\n",
    "best_estimator = results['best_estimator'][results['best_score']==results['best_score'].max()].iloc[0]\n",
    "final_accuracy_test,final_accuracy_train,pred_test,pred_train = final_model(X_train, X_test, y_train, y_test,best_estimator)\n",
    "save_model('models', 'best_estimator.sav', best_estimator)"
   ]
  },
  {
   "cell_type": "code",
   "execution_count": null,
   "metadata": {},
   "outputs": [],
   "source": [
    "# nlp=setup_spacy() dodane w class src.features.train_test_preparation\n",
    "jak inaczej to rozwiazac"
   ]
  },
  {
   "cell_type": "code",
   "execution_count": null,
   "metadata": {},
   "outputs": [],
   "source": [
    "final_accuracy_test,final_accuracy_train"
   ]
  },
  {
   "cell_type": "code",
   "execution_count": null,
   "metadata": {},
   "outputs": [],
   "source": [
    "best_estimator"
   ]
  },
  {
   "cell_type": "code",
   "execution_count": null,
   "metadata": {},
   "outputs": [],
   "source": [
    "\n",
    "best_model = save_model('models','20200726_best_estimator.sav',best_estimator)"
   ]
  }
 ],
 "metadata": {
  "kernelspec": {
   "display_name": "Python 3",
   "language": "python",
   "name": "python3"
  },
  "language_info": {
   "codemirror_mode": {
    "name": "ipython",
    "version": 3
   },
   "file_extension": ".py",
   "mimetype": "text/x-python",
   "name": "python",
   "nbconvert_exporter": "python",
   "pygments_lexer": "ipython3",
   "version": "3.7.6"
  }
 },
 "nbformat": 4,
 "nbformat_minor": 4
}
